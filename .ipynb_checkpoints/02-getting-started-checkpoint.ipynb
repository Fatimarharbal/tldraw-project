{
 "cells": [
  {
   "cell_type": "markdown",
   "id": "2d474a3e-274d-4bf8-95f3-2c18179877d9",
   "metadata": {},
   "source": [
    "---\n",
    "title: Getting Started\n",
    "date: 2023-11-30 \n",
    "authors:\n",
    "  - name: Sébastien Boisgérault\n",
    "    email: Sebastien.Boisgerault@minesparis.psl.eu\n",
    "    url: https://github.com/boisgera\n",
    "    affiliations:\n",
    "      - institution: Mines Paris - PSL University\n",
    "        department: Institut des Transformation Numériques (ITN)\n",
    "github: boisgera\n",
    "license: CC-BY-4.0\n",
    "open_access: true\n",
    "---"
   ]
  },
  {
   "cell_type": "markdown",
   "id": "99eb7623-348a-4873-9200-614c9be5bdb6",
   "metadata": {},
   "source": [
    "![tldraw](images/hello-tldraw.png)    "
   ]
  },
  {
   "cell_type": "markdown",
   "id": "f2cbb2bd-92e6-4c23-95b5-7996e1850533",
   "metadata": {},
   "source": [
    "# A Simple Document"
   ]
  },
  {
   "cell_type": "markdown",
   "id": "c95958ae-0e8e-40b3-9a1a-963745eda44e",
   "metadata": {},
   "source": [
    "```{exercise} Create a \"Hello tldraw!\" document\n",
    "\n",
    " 1. Download the folder of this project on your computer. \n",
    "  \n",
    " 2. Create an tldraw document that contains the text \"Hello tldraw!\" and save it on your computer.\n",
    " \n",
    " 3. Rename your tldraw document `hello-tldraw.tldr` and move it into the `docs` subfolder of the project.\n",
    "```"
   ]
  },
  {
   "cell_type": "markdown",
   "id": "f663cb6a-c804-4438-a6bb-7132a7c86332",
   "metadata": {},
   "source": [
    "Tldraw files are (utf-8-encoded) text files and therefore can be easily inspected. \n",
    "\n",
    "```{exercise} What's the format of tldraw documents?\n",
    "\n",
    "  1. Print the content of your \"Hello tldraw!\" document into this notebook.\n",
    "\n",
    "  2. The tldraw document format is a dialect of a general-purpose structured data format. \n",
    "  \n",
    "     Which one is it? (JSON, XML, CSV? something else?)\n",
    "\n",
    "```\n"
   ]
  },
  {
   "cell_type": "code",
   "execution_count": 17,
   "id": "817610d9-9ed5-4047-8d6c-a6c926b720b0",
   "metadata": {
    "scrolled": true
   },
   "outputs": [
    {
     "data": {
      "text/plain": [
       "'{\"tldrawFileFormatVersion\":1,\"schema\":{\"schemaVersion\":1,\"storeVersion\":4,\"recordVersions\":{\"asset\":{\"version\":1,\"subTypeKey\":\"type\",\"subTypeVersions\":{\"image\":3,\"video\":3,\"bookmark\":1}},\"camera\":{\"version\":1},\"document\":{\"version\":2},\"instance\":{\"version\":24},\"instance_page_state\":{\"version\":5},\"page\":{\"version\":1},\"shape\":{\"version\":3,\"subTypeKey\":\"type\",\"subTypeVersions\":{\"group\":0,\"text\":1,\"bookmark\":2,\"draw\":1,\"geo\":8,\"note\":5,\"line\":1,\"frame\":0,\"arrow\":3,\"highlight\":0,\"embed\":4,\"image\":3,\"video\":2}},\"instance_presence\":{\"version\":5},\"pointer\":{\"version\":1}}},\"records\":[{\"gridSize\":10,\"name\":\"\",\"meta\":{},\"id\":\"document:document\",\"typeName\":\"document\"},{\"meta\":{},\"id\":\"page:page\",\"name\":\"Page 1\",\"index\":\"a1\",\"typeName\":\"page\"},{\"followingUserId\":null,\"opacityForNextShape\":1,\"stylesForNextShape\":{\"tldraw:size\":\"xl\"},\"brush\":null,\"scribbles\":[],\"cursor\":{\"type\":\"default\",\"rotation\":0},\"isFocusMode\":false,\"exportBackground\":true,\"isDebugMode\":false,\"isToolLocked\":false,\"screenBounds\":{\"x\":0,\"y\":0,\"w\":1280,\"h\":587.3333129882812},\"insets\":[false,false,true,false],\"zoomBrush\":null,\"isGridMode\":false,\"isPenMode\":false,\"chatMessage\":\"\",\"isChatting\":false,\"highlightedUserIds\":[],\"canMoveCamera\":true,\"isFocused\":true,\"devicePixelRatio\":1.5,\"isCoarsePointer\":false,\"isHoveringCanvas\":null,\"openMenus\":[\"main menu\",\"main menu menu file\"],\"isChangingStyle\":false,\"isReadonly\":false,\"meta\":{},\"duplicateProps\":null,\"id\":\"instance:instance\",\"currentPageId\":\"page:page\",\"typeName\":\"instance\"},{\"x\":286.0657900340891,\"y\":76.57516987042885,\"z\":0.7159413090336374,\"meta\":{},\"id\":\"camera:page:page\",\"typeName\":\"camera\"},{\"editingShapeId\":null,\"croppingShapeId\":null,\"selectedShapeIds\":[\"shape:xeOCaIGdNV6pEXd6Q6-Ps\",\"shape:42nMz_9e0t3dDgJzLWY8W\"],\"hoveredShapeId\":null,\"erasingShapeIds\":[],\"hintingShapeIds\":[],\"focusedGroupId\":null,\"meta\":{},\"id\":\"instance_page_state:page:page\",\"pageId\":\"page:page\",\"typeName\":\"instance_page_state\"},{\"id\":\"pointer:pointer\",\"typeName\":\"pointer\",\"x\":609.2589969449,\"y\":-1.1499928082363198,\"lastActivityTimestamp\":1707603308352,\"meta\":{}},{\"x\":573.2737431293672,\"y\":478.96833668241544,\"rotation\":0,\"isLocked\":false,\"opacity\":1,\"meta\":{},\"id\":\"shape:xeOCaIGdNV6pEXd6Q6-Ps\",\"type\":\"text\",\"props\":{\"color\":\"black\",\"size\":\"xl\",\"w\":16.100006103515625,\"text\":\"\",\"font\":\"draw\",\"align\":\"middle\",\"autoSize\":true,\"scale\":1},\"parentId\":\"page:page\",\"index\":\"a8\",\"typeName\":\"shape\"},{\"x\":211.0769307967165,\"y\":138.15827736436034,\"rotation\":0,\"isLocked\":false,\"opacity\":1,\"meta\":{},\"id\":\"shape:42nMz_9e0t3dDgJzLWY8W\",\"type\":\"text\",\"props\":{\"color\":\"black\",\"size\":\"xl\",\"w\":299.1166687011719,\"text\":\"Hello tldraw!\",\"font\":\"draw\",\"align\":\"middle\",\"autoSize\":true,\"scale\":2.6460166282777897},\"parentId\":\"page:page\",\"index\":\"a9\",\"typeName\":\"shape\"}]}'"
      ]
     },
     "execution_count": 17,
     "metadata": {},
     "output_type": "execute_result"
    }
   ],
   "source": [
    "file = open(\"hello-tldraw.tldr\", mode=\"rt\", encoding=\"utf-8\")\n",
    "file.read()\n"
   ]
  },
  {
   "cell_type": "markdown",
   "id": "c9621232-37df-4e7a-8d58-ac2452ed2e04",
   "metadata": {},
   "source": [
    "Le contenu du document est au format JSON"
   ]
  },
  {
   "cell_type": "markdown",
   "id": "a8f5e1cc-1425-4394-8d73-47640d66d298",
   "metadata": {},
   "source": [
    "\n",
    "```{exercise} Load the document\n",
    ":label: load\n",
    "\n",
    " 1. Find the Python standard library that deals with the file format use by tldraw.\n",
    "\n",
    " 2. Use it to load the tldraw document as a tree-like structure (⚠️ not as a string!).\n",
    "\n",
    " 3. Name this structure `hello`.\n",
    "\n",
    "```"
   ]
  },
  {
   "cell_type": "code",
   "execution_count": 21,
   "id": "03ac138b-052c-4875-a785-9ff3451b72f4",
   "metadata": {},
   "outputs": [
    {
     "data": {
      "text/plain": [
       "{'tldrawFileFormatVersion': 1,\n",
       " 'schema': {'schemaVersion': 1,\n",
       "  'storeVersion': 4,\n",
       "  'recordVersions': {'asset': {'version': 1,\n",
       "    'subTypeKey': 'type',\n",
       "    'subTypeVersions': {'image': 3, 'video': 3, 'bookmark': 1}},\n",
       "   'camera': {'version': 1},\n",
       "   'document': {'version': 2},\n",
       "   'instance': {'version': 24},\n",
       "   'instance_page_state': {'version': 5},\n",
       "   'page': {'version': 1},\n",
       "   'shape': {'version': 3,\n",
       "    'subTypeKey': 'type',\n",
       "    'subTypeVersions': {'group': 0,\n",
       "     'text': 1,\n",
       "     'bookmark': 2,\n",
       "     'draw': 1,\n",
       "     'geo': 8,\n",
       "     'note': 5,\n",
       "     'line': 1,\n",
       "     'frame': 0,\n",
       "     'arrow': 3,\n",
       "     'highlight': 0,\n",
       "     'embed': 4,\n",
       "     'image': 3,\n",
       "     'video': 2}},\n",
       "   'instance_presence': {'version': 5},\n",
       "   'pointer': {'version': 1}}},\n",
       " 'records': [{'gridSize': 10,\n",
       "   'name': '',\n",
       "   'meta': {},\n",
       "   'id': 'document:document',\n",
       "   'typeName': 'document'},\n",
       "  {'meta': {},\n",
       "   'id': 'page:page',\n",
       "   'name': 'Page 1',\n",
       "   'index': 'a1',\n",
       "   'typeName': 'page'},\n",
       "  {'followingUserId': None,\n",
       "   'opacityForNextShape': 1,\n",
       "   'stylesForNextShape': {'tldraw:size': 'xl'},\n",
       "   'brush': None,\n",
       "   'scribbles': [],\n",
       "   'cursor': {'type': 'default', 'rotation': 0},\n",
       "   'isFocusMode': False,\n",
       "   'exportBackground': True,\n",
       "   'isDebugMode': False,\n",
       "   'isToolLocked': False,\n",
       "   'screenBounds': {'x': 0, 'y': 0, 'w': 1280, 'h': 587.3333129882812},\n",
       "   'insets': [False, False, True, False],\n",
       "   'zoomBrush': None,\n",
       "   'isGridMode': False,\n",
       "   'isPenMode': False,\n",
       "   'chatMessage': '',\n",
       "   'isChatting': False,\n",
       "   'highlightedUserIds': [],\n",
       "   'canMoveCamera': True,\n",
       "   'isFocused': True,\n",
       "   'devicePixelRatio': 1.5,\n",
       "   'isCoarsePointer': False,\n",
       "   'isHoveringCanvas': None,\n",
       "   'openMenus': ['main menu', 'main menu menu file'],\n",
       "   'isChangingStyle': False,\n",
       "   'isReadonly': False,\n",
       "   'meta': {},\n",
       "   'duplicateProps': None,\n",
       "   'id': 'instance:instance',\n",
       "   'currentPageId': 'page:page',\n",
       "   'typeName': 'instance'},\n",
       "  {'x': 286.0657900340891,\n",
       "   'y': 76.57516987042885,\n",
       "   'z': 0.7159413090336374,\n",
       "   'meta': {},\n",
       "   'id': 'camera:page:page',\n",
       "   'typeName': 'camera'},\n",
       "  {'editingShapeId': None,\n",
       "   'croppingShapeId': None,\n",
       "   'selectedShapeIds': ['shape:xeOCaIGdNV6pEXd6Q6-Ps',\n",
       "    'shape:42nMz_9e0t3dDgJzLWY8W'],\n",
       "   'hoveredShapeId': None,\n",
       "   'erasingShapeIds': [],\n",
       "   'hintingShapeIds': [],\n",
       "   'focusedGroupId': None,\n",
       "   'meta': {},\n",
       "   'id': 'instance_page_state:page:page',\n",
       "   'pageId': 'page:page',\n",
       "   'typeName': 'instance_page_state'},\n",
       "  {'id': 'pointer:pointer',\n",
       "   'typeName': 'pointer',\n",
       "   'x': 609.2589969449,\n",
       "   'y': -1.1499928082363198,\n",
       "   'lastActivityTimestamp': 1707603308352,\n",
       "   'meta': {}},\n",
       "  {'x': 573.2737431293672,\n",
       "   'y': 478.96833668241544,\n",
       "   'rotation': 0,\n",
       "   'isLocked': False,\n",
       "   'opacity': 1,\n",
       "   'meta': {},\n",
       "   'id': 'shape:xeOCaIGdNV6pEXd6Q6-Ps',\n",
       "   'type': 'text',\n",
       "   'props': {'color': 'black',\n",
       "    'size': 'xl',\n",
       "    'w': 16.100006103515625,\n",
       "    'text': '',\n",
       "    'font': 'draw',\n",
       "    'align': 'middle',\n",
       "    'autoSize': True,\n",
       "    'scale': 1},\n",
       "   'parentId': 'page:page',\n",
       "   'index': 'a8',\n",
       "   'typeName': 'shape'},\n",
       "  {'x': 211.0769307967165,\n",
       "   'y': 138.15827736436034,\n",
       "   'rotation': 0,\n",
       "   'isLocked': False,\n",
       "   'opacity': 1,\n",
       "   'meta': {},\n",
       "   'id': 'shape:42nMz_9e0t3dDgJzLWY8W',\n",
       "   'type': 'text',\n",
       "   'props': {'color': 'black',\n",
       "    'size': 'xl',\n",
       "    'w': 299.1166687011719,\n",
       "    'text': 'Hello tldraw!',\n",
       "    'font': 'draw',\n",
       "    'align': 'middle',\n",
       "    'autoSize': True,\n",
       "    'scale': 2.6460166282777897},\n",
       "   'parentId': 'page:page',\n",
       "   'index': 'a9',\n",
       "   'typeName': 'shape'}]}"
      ]
     },
     "execution_count": 21,
     "metadata": {},
     "output_type": "execute_result"
    }
   ],
   "source": [
    "import json\n",
    "hello = json.loads(open(\"hello-tldraw.tldr\", mode=\"rt\", encoding=\"utf-8\").read())\n",
    "hello"
   ]
  },
  {
   "cell_type": "markdown",
   "id": "a6ce392d-b8fa-4df2-a5e1-e5c9b81dffc8",
   "metadata": {},
   "source": [
    "# Records & Shapes"
   ]
  },
  {
   "cell_type": "markdown",
   "id": "c30a7788-e59e-42ab-a5da-c43aa1bb0872",
   "metadata": {},
   "source": [
    "```{exercise} Structure\n",
    ":label:\n",
    "\n",
    " 1. Can you locate a list of \"records\" inside `doc`? Name that list `records`.\n",
    "\n",
    " 2. Records all have a type name. Can you list all of them?\n",
    "\n",
    " 3. There should be a single shape among your records. What's it's `type`?\n",
    "\n",
    " 4. Name `hello_text` this record and display it in the notebook\n",
    "\n",
    "```"
   ]
  },
  {
   "cell_type": "code",
   "execution_count": 26,
   "id": "138df1af-7fbf-437a-8f37-93659ac73034",
   "metadata": {},
   "outputs": [
    {
     "data": {
      "text/plain": [
       "[{'gridSize': 10,\n",
       "  'name': '',\n",
       "  'meta': {},\n",
       "  'id': 'document:document',\n",
       "  'typeName': 'document'},\n",
       " {'meta': {},\n",
       "  'id': 'page:page',\n",
       "  'name': 'Page 1',\n",
       "  'index': 'a1',\n",
       "  'typeName': 'page'},\n",
       " {'followingUserId': None,\n",
       "  'opacityForNextShape': 1,\n",
       "  'stylesForNextShape': {'tldraw:size': 'xl'},\n",
       "  'brush': None,\n",
       "  'scribbles': [],\n",
       "  'cursor': {'type': 'default', 'rotation': 0},\n",
       "  'isFocusMode': False,\n",
       "  'exportBackground': True,\n",
       "  'isDebugMode': False,\n",
       "  'isToolLocked': False,\n",
       "  'screenBounds': {'x': 0, 'y': 0, 'w': 1280, 'h': 587.3333129882812},\n",
       "  'insets': [False, False, True, False],\n",
       "  'zoomBrush': None,\n",
       "  'isGridMode': False,\n",
       "  'isPenMode': False,\n",
       "  'chatMessage': '',\n",
       "  'isChatting': False,\n",
       "  'highlightedUserIds': [],\n",
       "  'canMoveCamera': True,\n",
       "  'isFocused': True,\n",
       "  'devicePixelRatio': 1.5,\n",
       "  'isCoarsePointer': False,\n",
       "  'isHoveringCanvas': None,\n",
       "  'openMenus': ['main menu', 'main menu menu file'],\n",
       "  'isChangingStyle': False,\n",
       "  'isReadonly': False,\n",
       "  'meta': {},\n",
       "  'duplicateProps': None,\n",
       "  'id': 'instance:instance',\n",
       "  'currentPageId': 'page:page',\n",
       "  'typeName': 'instance'},\n",
       " {'x': 286.0657900340891,\n",
       "  'y': 76.57516987042885,\n",
       "  'z': 0.7159413090336374,\n",
       "  'meta': {},\n",
       "  'id': 'camera:page:page',\n",
       "  'typeName': 'camera'},\n",
       " {'editingShapeId': None,\n",
       "  'croppingShapeId': None,\n",
       "  'selectedShapeIds': ['shape:xeOCaIGdNV6pEXd6Q6-Ps',\n",
       "   'shape:42nMz_9e0t3dDgJzLWY8W'],\n",
       "  'hoveredShapeId': None,\n",
       "  'erasingShapeIds': [],\n",
       "  'hintingShapeIds': [],\n",
       "  'focusedGroupId': None,\n",
       "  'meta': {},\n",
       "  'id': 'instance_page_state:page:page',\n",
       "  'pageId': 'page:page',\n",
       "  'typeName': 'instance_page_state'},\n",
       " {'id': 'pointer:pointer',\n",
       "  'typeName': 'pointer',\n",
       "  'x': 609.2589969449,\n",
       "  'y': -1.1499928082363198,\n",
       "  'lastActivityTimestamp': 1707603308352,\n",
       "  'meta': {}},\n",
       " {'x': 573.2737431293672,\n",
       "  'y': 478.96833668241544,\n",
       "  'rotation': 0,\n",
       "  'isLocked': False,\n",
       "  'opacity': 1,\n",
       "  'meta': {},\n",
       "  'id': 'shape:xeOCaIGdNV6pEXd6Q6-Ps',\n",
       "  'type': 'text',\n",
       "  'props': {'color': 'black',\n",
       "   'size': 'xl',\n",
       "   'w': 16.100006103515625,\n",
       "   'text': '',\n",
       "   'font': 'draw',\n",
       "   'align': 'middle',\n",
       "   'autoSize': True,\n",
       "   'scale': 1},\n",
       "  'parentId': 'page:page',\n",
       "  'index': 'a8',\n",
       "  'typeName': 'shape'},\n",
       " {'x': 211.0769307967165,\n",
       "  'y': 138.15827736436034,\n",
       "  'rotation': 0,\n",
       "  'isLocked': False,\n",
       "  'opacity': 1,\n",
       "  'meta': {},\n",
       "  'id': 'shape:42nMz_9e0t3dDgJzLWY8W',\n",
       "  'type': 'text',\n",
       "  'props': {'color': 'black',\n",
       "   'size': 'xl',\n",
       "   'w': 299.1166687011719,\n",
       "   'text': 'Hello tldraw!',\n",
       "   'font': 'draw',\n",
       "   'align': 'middle',\n",
       "   'autoSize': True,\n",
       "   'scale': 2.6460166282777897},\n",
       "  'parentId': 'page:page',\n",
       "  'index': 'a9',\n",
       "  'typeName': 'shape'}]"
      ]
     },
     "execution_count": 26,
     "metadata": {},
     "output_type": "execute_result"
    }
   ],
   "source": [
    "records = hello[\"records\"]\n",
    "records"
   ]
  },
  {
   "cell_type": "code",
   "execution_count": 28,
   "id": "302b966b-e536-4e9c-9595-14fb3276dc54",
   "metadata": {},
   "outputs": [
    {
     "name": "stdout",
     "output_type": "stream",
     "text": [
      "['document', 'page', 'instance', 'camera', 'instance_page_state', 'pointer', 'shape', 'shape']\n"
     ]
    }
   ],
   "source": [
    "types_names = []\n",
    "for record in records:\n",
    "    types_names.append(record['typeName'])\n",
    "print(types_names)"
   ]
  },
  {
   "cell_type": "code",
   "execution_count": 34,
   "id": "0e4dc672-e7c4-4764-a7ff-ee2062236d34",
   "metadata": {},
   "outputs": [
    {
     "data": {
      "text/plain": [
       "'text'"
      ]
     },
     "execution_count": 34,
     "metadata": {},
     "output_type": "execute_result"
    }
   ],
   "source": [
    "records[7][\"type\"]"
   ]
  },
  {
   "cell_type": "code",
   "execution_count": 35,
   "id": "9920f430-0386-4825-a772-ae01a9483688",
   "metadata": {},
   "outputs": [
    {
     "data": {
      "text/plain": [
       "'text'"
      ]
     },
     "execution_count": 35,
     "metadata": {},
     "output_type": "execute_result"
    }
   ],
   "source": [
    "records[6][\"type\"]"
   ]
  },
  {
   "cell_type": "code",
   "execution_count": 39,
   "id": "31fa08b9-08d7-4f91-b3e5-f82488444bae",
   "metadata": {
    "scrolled": true
   },
   "outputs": [
    {
     "data": {
      "text/plain": [
       "{'x': 211.0769307967165,\n",
       " 'y': 138.15827736436034,\n",
       " 'rotation': 0,\n",
       " 'isLocked': False,\n",
       " 'opacity': 1,\n",
       " 'meta': {},\n",
       " 'id': 'shape:42nMz_9e0t3dDgJzLWY8W',\n",
       " 'type': 'text',\n",
       " 'props': {'color': 'black',\n",
       "  'size': 'xl',\n",
       "  'w': 299.1166687011719,\n",
       "  'text': 'Hello tldraw!',\n",
       "  'font': 'draw',\n",
       "  'align': 'middle',\n",
       "  'autoSize': True,\n",
       "  'scale': 2.6460166282777897},\n",
       " 'parentId': 'page:page',\n",
       " 'index': 'a9',\n",
       " 'typeName': 'shape'}"
      ]
     },
     "execution_count": 39,
     "metadata": {},
     "output_type": "execute_result"
    }
   ],
   "source": [
    "hello_text = records[7]\n",
    "hello_text"
   ]
  },
  {
   "cell_type": "markdown",
   "id": "88a29de9-0fb7-4173-8f5e-29377e5e2147",
   "metadata": {},
   "source": [
    "# Edit the Document"
   ]
  },
  {
   "cell_type": "markdown",
   "id": "0e3880a5-049b-4d0a-a4aa-2678eff6406c",
   "metadata": {},
   "source": [
    "```{exercise} Text Content\n",
    "\n",
    "  1. Locate where in the `hello_text` record the text content is located.\n",
    "  \n",
    "  2. Replace \"Hello tldraw!\" with \"Hello Python!\"\n",
    "\n",
    "  3. Save the corresponding document in the directory `docs` as a `hello-python.tldr` file.\n",
    "\n",
    "  4. Load it in the tldraw editor and check that you end up with something similar to the picture below.\n",
    "\n",
    "```"
   ]
  },
  {
   "cell_type": "code",
   "execution_count": 50,
   "id": "3b9bed32-8934-4a5c-a926-ea32dc446f48",
   "metadata": {},
   "outputs": [
    {
     "data": {
      "text/plain": [
       "'Hello tldraw!'"
      ]
     },
     "execution_count": 50,
     "metadata": {},
     "output_type": "execute_result"
    }
   ],
   "source": [
    "hello_text['props']['text']"
   ]
  },
  {
   "cell_type": "code",
   "execution_count": 52,
   "id": "1a5aae7c-4197-4c43-88cf-cb0a3e6ac2da",
   "metadata": {},
   "outputs": [
    {
     "data": {
      "text/plain": [
       "{'x': 211.0769307967165,\n",
       " 'y': 138.15827736436034,\n",
       " 'rotation': 0,\n",
       " 'isLocked': False,\n",
       " 'opacity': 1,\n",
       " 'meta': {},\n",
       " 'id': 'shape:42nMz_9e0t3dDgJzLWY8W',\n",
       " 'type': 'text',\n",
       " 'props': {'color': 'black',\n",
       "  'size': 'xl',\n",
       "  'w': 299.1166687011719,\n",
       "  'text': 'Hello Python!',\n",
       "  'font': 'draw',\n",
       "  'align': 'middle',\n",
       "  'autoSize': True,\n",
       "  'scale': 2.6460166282777897},\n",
       " 'parentId': 'page:page',\n",
       " 'index': 'a9',\n",
       " 'typeName': 'shape'}"
      ]
     },
     "execution_count": 52,
     "metadata": {},
     "output_type": "execute_result"
    }
   ],
   "source": [
    "hello_text['props']['text'] = \"Hello Python!\"\n",
    "hello_text"
   ]
  },
  {
   "cell_type": "code",
   "execution_count": 75,
   "id": "f174eb4a-b2cf-4867-aa6f-e06d3fac62b1",
   "metadata": {},
   "outputs": [
    {
     "data": {
      "text/plain": [
       "'{\"tldrawFileFormatVersion\": 1, \"schema\": {\"schemaVersion\": 1, \"storeVersion\": 4, \"recordVersions\": {\"asset\": {\"version\": 1, \"subTypeKey\": \"type\", \"subTypeVersions\": {\"image\": 3, \"video\": 3, \"bookmark\": 1}}, \"camera\": {\"version\": 1}, \"document\": {\"version\": 2}, \"instance\": {\"version\": 24}, \"instance_page_state\": {\"version\": 5}, \"page\": {\"version\": 1}, \"shape\": {\"version\": 3, \"subTypeKey\": \"type\", \"subTypeVersions\": {\"group\": 0, \"text\": 1, \"bookmark\": 2, \"draw\": 1, \"geo\": 8, \"note\": 5, \"line\": 1, \"frame\": 0, \"arrow\": 3, \"highlight\": 0, \"embed\": 4, \"image\": 3, \"video\": 2}}, \"instance_presence\": {\"version\": 5}, \"pointer\": {\"version\": 1}}}, \"records\": [{\"gridSize\": 10, \"name\": \"\", \"meta\": {}, \"id\": \"document:document\", \"typeName\": \"document\"}, {\"meta\": {}, \"id\": \"page:page\", \"name\": \"Page 1\", \"index\": \"a1\", \"typeName\": \"page\"}, {\"followingUserId\": null, \"opacityForNextShape\": 1, \"stylesForNextShape\": {\"tldraw:size\": \"xl\"}, \"brush\": null, \"scribbles\": [], \"cursor\": {\"type\": \"default\", \"rotation\": 0}, \"isFocusMode\": false, \"exportBackground\": true, \"isDebugMode\": false, \"isToolLocked\": false, \"screenBounds\": {\"x\": 0, \"y\": 0, \"w\": 1280, \"h\": 587.3333129882812}, \"insets\": [false, false, true, false], \"zoomBrush\": null, \"isGridMode\": false, \"isPenMode\": false, \"chatMessage\": \"\", \"isChatting\": false, \"highlightedUserIds\": [], \"canMoveCamera\": true, \"isFocused\": true, \"devicePixelRatio\": 1.5, \"isCoarsePointer\": false, \"isHoveringCanvas\": null, \"openMenus\": [\"main menu\", \"main menu menu file\"], \"isChangingStyle\": false, \"isReadonly\": false, \"meta\": {}, \"duplicateProps\": null, \"id\": \"instance:instance\", \"currentPageId\": \"page:page\", \"typeName\": \"instance\"}, {\"x\": 286.0657900340891, \"y\": 76.57516987042885, \"z\": 0.7159413090336374, \"meta\": {}, \"id\": \"camera:page:page\", \"typeName\": \"camera\"}, {\"editingShapeId\": null, \"croppingShapeId\": null, \"selectedShapeIds\": [\"shape:xeOCaIGdNV6pEXd6Q6-Ps\", \"shape:42nMz_9e0t3dDgJzLWY8W\"], \"hoveredShapeId\": null, \"erasingShapeIds\": [], \"hintingShapeIds\": [], \"focusedGroupId\": null, \"meta\": {}, \"id\": \"instance_page_state:page:page\", \"pageId\": \"page:page\", \"typeName\": \"instance_page_state\"}, {\"id\": \"pointer:pointer\", \"typeName\": \"pointer\", \"x\": 609.2589969449, \"y\": -1.1499928082363198, \"lastActivityTimestamp\": 1707603308352, \"meta\": {}}, {\"x\": 573.2737431293672, \"y\": 478.96833668241544, \"rotation\": 0, \"isLocked\": false, \"opacity\": 1, \"meta\": {}, \"id\": \"shape:xeOCaIGdNV6pEXd6Q6-Ps\", \"type\": \"text\", \"props\": {\"color\": \"black\", \"size\": \"xl\", \"w\": 16.100006103515625, \"text\": \"\", \"font\": \"draw\", \"align\": \"middle\", \"autoSize\": true, \"scale\": 1}, \"parentId\": \"page:page\", \"index\": \"a8\", \"typeName\": \"shape\"}, {\"x\": 211.0769307967165, \"y\": 138.15827736436034, \"rotation\": 0, \"isLocked\": false, \"opacity\": 1, \"meta\": {}, \"id\": \"shape:42nMz_9e0t3dDgJzLWY8W\", \"type\": \"text\", \"props\": {\"color\": \"black\", \"size\": \"xl\", \"w\": 299.1166687011719, \"text\": \"Hello Python!\", \"font\": \"draw\", \"align\": \"middle\", \"autoSize\": true, \"scale\": 2.6460166282777897}, \"parentId\": \"page:page\", \"index\": \"a9\", \"typeName\": \"shape\"}]}'"
      ]
     },
     "execution_count": 75,
     "metadata": {},
     "output_type": "execute_result"
    }
   ],
   "source": [
    "hello_python = json.dumps(hello)\n",
    "hello_python"
   ]
  },
  {
   "cell_type": "code",
   "execution_count": 77,
   "id": "6e2ca724-7a65-4a93-9e2d-56f24d8fac47",
   "metadata": {},
   "outputs": [],
   "source": [
    "with open(\"hello-python.tldr\", \"wt\") as file:\n",
    "    file.write(hello_python)"
   ]
  },
  {
   "cell_type": "code",
   "execution_count": null,
   "id": "0a7540f1-4154-4976-9e01-f741ff9544da",
   "metadata": {},
   "outputs": [],
   "source": []
  },
  {
   "cell_type": "markdown",
   "id": "1f95f445-0b47-4cea-a53b-b8d0a8bed59f",
   "metadata": {},
   "source": [
    "![](images/hello-python.png)"
   ]
  }
 ],
 "metadata": {
  "kernelspec": {
   "display_name": "Python 3 (ipykernel)",
   "language": "python",
   "name": "python3"
  },
  "language_info": {
   "codemirror_mode": {
    "name": "ipython",
    "version": 3
   },
   "file_extension": ".py",
   "mimetype": "text/x-python",
   "name": "python",
   "nbconvert_exporter": "python",
   "pygments_lexer": "ipython3",
   "version": "3.11.4"
  }
 },
 "nbformat": 4,
 "nbformat_minor": 5
}
