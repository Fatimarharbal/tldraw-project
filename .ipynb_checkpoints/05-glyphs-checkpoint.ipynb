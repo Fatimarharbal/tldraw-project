{
 "cells": [
  {
   "cell_type": "markdown",
   "id": "78125428-27ae-4308-adbe-2f57738f53d6",
   "metadata": {},
   "source": [
    "---\n",
    "title: Glyphs\n",
    "date: 2023-12-301\n",
    "authors:\n",
    "  - name: Sébastien Boisgérault\n",
    "    email: Sebastien.Boisgerault@minesparis.psl.eu\n",
    "    url: https://github.com/boisgera\n",
    "    affiliations:\n",
    "      - institution: Mines Paris - PSL University\n",
    "        department: Institut des Transformation Numériques (ITN)\n",
    "github: boisgera\n",
    "license: CC-BY-4.0\n",
    "open_access: true\n",
    "---"
   ]
  },
  {
   "cell_type": "markdown",
   "id": "1527878a-9a89-444c-97d8-d8c377e04921",
   "metadata": {},
   "source": [
    "## Glyph Representation\n",
    "\n",
    "![](images/z.tldraw.png)\n",
    "\n",
    "```{exercise} Glyph Skeleton\n",
    "\n",
    " 1. Create a new tldraw document with a unique continuous short curve created with the draw tool (called in the sequel a *glyph*).\n",
    "\n",
    " 2. Load the document in Python and extract from it the unique record of type `draw`.\n",
    "\n",
    " 3. Build from this record the arrays `x` and `y` of the points coordinates that describe the curve.\n",
    "\n",
    "    ⚠️ Make sure that you get the initial values `x[0]` and `y[0]` right!\n",
    "\n",
    " 5. Plot the curve using an aspect ratio of 1 ; make sure that your conventions for the y axis match those of tldraw.\n",
    "\n",
    "```"
   ]
  },
  {
   "cell_type": "code",
   "execution_count": 2,
   "id": "44264f02-d54e-450c-88dd-2f37ed53a0a8",
   "metadata": {},
   "outputs": [
    {
     "data": {
      "text/plain": [
       "[{'gridSize': 10,\n",
       "  'name': '',\n",
       "  'meta': {},\n",
       "  'id': 'document:document',\n",
       "  'typeName': 'document'},\n",
       " {'id': 'pointer:pointer',\n",
       "  'typeName': 'pointer',\n",
       "  'x': 31,\n",
       "  'y': 43,\n",
       "  'lastActivityTimestamp': 1707689738912,\n",
       "  'meta': {}},\n",
       " {'meta': {},\n",
       "  'id': 'page:page',\n",
       "  'name': 'Page 1',\n",
       "  'index': 'a1',\n",
       "  'typeName': 'page'},\n",
       " {'x': 0,\n",
       "  'y': 0,\n",
       "  'z': 1,\n",
       "  'meta': {},\n",
       "  'id': 'camera:page:page',\n",
       "  'typeName': 'camera'},\n",
       " {'editingShapeId': None,\n",
       "  'croppingShapeId': None,\n",
       "  'selectedShapeIds': [],\n",
       "  'hoveredShapeId': None,\n",
       "  'erasingShapeIds': [],\n",
       "  'hintingShapeIds': [],\n",
       "  'focusedGroupId': None,\n",
       "  'meta': {},\n",
       "  'id': 'instance_page_state:page:page',\n",
       "  'pageId': 'page:page',\n",
       "  'typeName': 'instance_page_state'},\n",
       " {'followingUserId': None,\n",
       "  'opacityForNextShape': 1,\n",
       "  'stylesForNextShape': {'tldraw:size': 'xl'},\n",
       "  'brush': None,\n",
       "  'scribbles': [],\n",
       "  'cursor': {'type': 'cross', 'rotation': 0},\n",
       "  'isFocusMode': False,\n",
       "  'exportBackground': True,\n",
       "  'isDebugMode': False,\n",
       "  'isToolLocked': False,\n",
       "  'screenBounds': {'x': 0, 'y': 0, 'w': 637.3333129882812, 'h': 586},\n",
       "  'insets': [False, True, False, False],\n",
       "  'zoomBrush': None,\n",
       "  'isGridMode': False,\n",
       "  'isPenMode': False,\n",
       "  'chatMessage': '',\n",
       "  'isChatting': False,\n",
       "  'highlightedUserIds': [],\n",
       "  'canMoveCamera': True,\n",
       "  'isFocused': True,\n",
       "  'devicePixelRatio': 1.5,\n",
       "  'isCoarsePointer': False,\n",
       "  'isHoveringCanvas': False,\n",
       "  'openMenus': ['main menu', 'main menu menu file'],\n",
       "  'isChangingStyle': False,\n",
       "  'isReadonly': False,\n",
       "  'meta': {},\n",
       "  'duplicateProps': None,\n",
       "  'id': 'instance:instance',\n",
       "  'currentPageId': 'page:page',\n",
       "  'typeName': 'instance'},\n",
       " {'x': 92,\n",
       "  'y': 218,\n",
       "  'rotation': 0,\n",
       "  'isLocked': False,\n",
       "  'opacity': 1,\n",
       "  'meta': {},\n",
       "  'id': 'shape:EoUagrYDqCL5JUHFItJUD',\n",
       "  'type': 'draw',\n",
       "  'props': {'segments': [{'type': 'free',\n",
       "     'points': [{'x': 0, 'y': 0, 'z': 0.5},\n",
       "      {'x': 109, 'y': -22, 'z': 0.5},\n",
       "      {'x': 129, 'y': -25, 'z': 0.5},\n",
       "      {'x': 133, 'y': -25, 'z': 0.5},\n",
       "      {'x': 136, 'y': -24, 'z': 0.5},\n",
       "      {'x': 135, 'y': -19, 'z': 0.5},\n",
       "      {'x': 129, 'y': -8, 'z': 0.5},\n",
       "      {'x': 117, 'y': 6, 'z': 0.5},\n",
       "      {'x': 104, 'y': 24, 'z': 0.5},\n",
       "      {'x': 97, 'y': 33, 'z': 0.5},\n",
       "      {'x': 82, 'y': 54, 'z': 0.5},\n",
       "      {'x': 65, 'y': 79, 'z': 0.5},\n",
       "      {'x': 48, 'y': 107, 'z': 0.5},\n",
       "      {'x': 40, 'y': 120, 'z': 0.5},\n",
       "      {'x': 28, 'y': 143, 'z': 0.5},\n",
       "      {'x': 23, 'y': 158, 'z': 0.5},\n",
       "      {'x': 25, 'y': 164, 'z': 0.5},\n",
       "      {'x': 31, 'y': 165, 'z': 0.5},\n",
       "      {'x': 43, 'y': 165, 'z': 0.5},\n",
       "      {'x': 61, 'y': 161, 'z': 0.5},\n",
       "      {'x': 73, 'y': 157, 'z': 0.5},\n",
       "      {'x': 123, 'y': 135, 'z': 0.5},\n",
       "      {'x': 146, 'y': 125, 'z': 0.5},\n",
       "      {'x': 199, 'y': 102, 'z': 0.5},\n",
       "      {'x': 260, 'y': 75, 'z': 0.5},\n",
       "      {'x': 321, 'y': 50, 'z': 0.5},\n",
       "      {'x': 348, 'y': 39, 'z': 0.5},\n",
       "      {'x': 391, 'y': 23, 'z': 0.5},\n",
       "      {'x': 421, 'y': 13, 'z': 0.5},\n",
       "      {'x': 438, 'y': 8, 'z': 0.5},\n",
       "      {'x': 445, 'y': 7, 'z': 0.5},\n",
       "      {'x': 447, 'y': 6, 'z': 0.5},\n",
       "      {'x': 447, 'y': 7, 'z': 0.5}]}],\n",
       "   'color': 'black',\n",
       "   'fill': 'none',\n",
       "   'dash': 'draw',\n",
       "   'size': 'm',\n",
       "   'isComplete': True,\n",
       "   'isClosed': False,\n",
       "   'isPen': False},\n",
       "  'parentId': 'page:page',\n",
       "  'index': 'a1',\n",
       "  'typeName': 'shape'}]"
      ]
     },
     "execution_count": 2,
     "metadata": {},
     "output_type": "execute_result"
    }
   ],
   "source": [
    "import json\n",
    "file = json.loads(open(\"curve.tldr\", mode=\"rt\", encoding=\"utf-8\").read())\n",
    "records = file['records']\n",
    "records"
   ]
  },
  {
   "cell_type": "code",
   "execution_count": 4,
   "id": "30503d0e-7a05-46af-8f1a-cec18f61b166",
   "metadata": {},
   "outputs": [
    {
     "name": "stdout",
     "output_type": "stream",
     "text": [
      "{'x': 92, 'y': 218, 'rotation': 0, 'isLocked': False, 'opacity': 1, 'meta': {}, 'id': 'shape:EoUagrYDqCL5JUHFItJUD', 'type': 'draw', 'props': {'segments': [{'type': 'free', 'points': [{'x': 0, 'y': 0, 'z': 0.5}, {'x': 109, 'y': -22, 'z': 0.5}, {'x': 129, 'y': -25, 'z': 0.5}, {'x': 133, 'y': -25, 'z': 0.5}, {'x': 136, 'y': -24, 'z': 0.5}, {'x': 135, 'y': -19, 'z': 0.5}, {'x': 129, 'y': -8, 'z': 0.5}, {'x': 117, 'y': 6, 'z': 0.5}, {'x': 104, 'y': 24, 'z': 0.5}, {'x': 97, 'y': 33, 'z': 0.5}, {'x': 82, 'y': 54, 'z': 0.5}, {'x': 65, 'y': 79, 'z': 0.5}, {'x': 48, 'y': 107, 'z': 0.5}, {'x': 40, 'y': 120, 'z': 0.5}, {'x': 28, 'y': 143, 'z': 0.5}, {'x': 23, 'y': 158, 'z': 0.5}, {'x': 25, 'y': 164, 'z': 0.5}, {'x': 31, 'y': 165, 'z': 0.5}, {'x': 43, 'y': 165, 'z': 0.5}, {'x': 61, 'y': 161, 'z': 0.5}, {'x': 73, 'y': 157, 'z': 0.5}, {'x': 123, 'y': 135, 'z': 0.5}, {'x': 146, 'y': 125, 'z': 0.5}, {'x': 199, 'y': 102, 'z': 0.5}, {'x': 260, 'y': 75, 'z': 0.5}, {'x': 321, 'y': 50, 'z': 0.5}, {'x': 348, 'y': 39, 'z': 0.5}, {'x': 391, 'y': 23, 'z': 0.5}, {'x': 421, 'y': 13, 'z': 0.5}, {'x': 438, 'y': 8, 'z': 0.5}, {'x': 445, 'y': 7, 'z': 0.5}, {'x': 447, 'y': 6, 'z': 0.5}, {'x': 447, 'y': 7, 'z': 0.5}]}], 'color': 'black', 'fill': 'none', 'dash': 'draw', 'size': 'm', 'isComplete': True, 'isClosed': False, 'isPen': False}, 'parentId': 'page:page', 'index': 'a1', 'typeName': 'shape'}\n"
     ]
    }
   ],
   "source": [
    "draw_record = None\n",
    "for record in records:\n",
    "    if record['typeName'] == 'shape' and record['type'] == 'draw':\n",
    "        draw_record = record\n",
    "        break\n",
    "print(draw_record)"
   ]
  },
  {
   "cell_type": "markdown",
   "id": "deb7f01b-47c7-4e6b-9400-9088f55785f3",
   "metadata": {},
   "source": [
    "![](images/z-skeleton-only.jpg)"
   ]
  },
  {
   "cell_type": "markdown",
   "id": "0c35645a-f0f6-49a4-9200-3d0adc973a24",
   "metadata": {},
   "source": [
    "The curve that you have plotted only represents a \"skeleton\" of the glyph but not its thickness. \n",
    "The thickness itself is computed from an evaluation of the speed at which the pen travels (the faster the pen is, the smaller the curve is ; this is how the pen pressure is simulated).\n",
    "\n",
    "```{exercise} Glyph Outline\n",
    " 1. Make a new continuous curve that you draw during 6 seconds (the more precise the better ! I would advise you to use a stopwatch) ; try to move constantly when you draw the curve at first (for the initial 3 seconds) then faster (for the final 3 seconds). Then, extract the corresponding coordinates `x` and `y` in Python and make an informed guess on how these values are sampled from the \"true\" time-dependent curve.\n",
    "\n",
    " 2. The `perfect-freehand` python package ports to Python the Javascript library used by tldraw to draw the curves contour. It is [available on pypi](https://pypi.org/project/perfect-freehand/) and [documented](https://bigbluebutton.github.io/perfect-freehand-python/). Use it to represent on the same matplotlib display the skeleton points and a corresponding contour.\n",
    "```\n",
    "\n",
    "![](images/z-outline.jpg)\n"
   ]
  },
  {
   "cell_type": "markdown",
   "id": "bd180371-d890-4bff-b43c-a0bcc3345a19",
   "metadata": {},
   "source": [
    "## Glyph Classification\n",
    "\n",
    "\n",
    "![](images/glyphs-reference.png)\n",
    "\n"
   ]
  },
  {
   "cell_type": "markdown",
   "id": "09f09688-57f7-425d-a77a-17cfedfcaf66",
   "metadata": {},
   "source": [
    "\n",
    "```{exercise} Glyph Collection\n",
    " 1. Create a tldraw document that contains many small variations of the same glyph as depicted above. Pick a glyph of your chosing!\n",
    "    Save it as `docs/glyphs.tldr`.\n",
    " \n",
    "    ⚠️ If you have a ✍️ pen tablet, use it; otherwise you're probably better off using your 👆 finger on a tablet / mobile phone than a 🖱️ mouse to get a collection of similar glyphs.\n",
    " 2. Draw all these glyph variants in matplotib ; translate them beforehand so that they have the same center of mass and are (mostly but not entirely) superimposed.\n",
    "```\n",
    "\n",
    "![](images/glyphs-superimposed.jpg)"
   ]
  },
  {
   "cell_type": "markdown",
   "id": "1380c147-72fa-4013-af5e-e75105cee7f1",
   "metadata": {},
   "source": [
    "Each glyph may have a different number of samples, so its hard to compare them directly. Additionally they may be a bit rough and could probably use a smoother and denser representation (with many more points).\n",
    "\n",
    "```{exercise} Interpolation and Resampling\n",
    " 1. Associate to any glyph represented by its coordinate a path $t \\in [0, 1] \\mapsto \\mathbb{R}^2$ (as a Python function), using some \"smooth\" interpolation.\n",
    " \n",
    "    **Hint:** use [`scipy.interpolate.interp1d`](https://docs.scipy.org/doc/scipy/reference/generated/scipy.interpolate.interp1d.html).\n",
    " \n",
    " 2. Sample it uniformly to get exactly 1000 points.\n",
    "\n",
    "```\n",
    "\n"
   ]
  },
  {
   "cell_type": "markdown",
   "id": "f7c648de-600b-41ab-9356-06f1fd1d7a63",
   "metadata": {},
   "source": [
    "```{exercise} Mean Glyph\n",
    " 1. Use the set of resampled coordinates to compute the (resampled) \"mean glyph\" that averages the features of all glyphs. \n",
    " 2. Draw this glyph !\n",
    "```\n",
    "\n",
    "![](images/glyphs-mean.jpg)"
   ]
  },
  {
   "cell_type": "markdown",
   "id": "11150ebe-6abd-4ce4-9bf8-c43b245690f4",
   "metadata": {},
   "source": [
    "```{exercise} Glyph Similarity\n",
    "\n",
    " 1. Come up with a scalar measure of the \"dissimilarity\" between two resampled glyphs (2 arrays of 1000 points), which is equal to 0 when both glyphs are identical and gets larger as the glyphs become more different.\n",
    "\n",
    " 2. Compute the dissimilarity between each glyph and the mean glyph and compute the maximal dissimilarity for our collection of small variants.\n",
    "```"
   ]
  },
  {
   "cell_type": "markdown",
   "id": "4efc179f-76d8-49f9-a691-7d8d275924de",
   "metadata": {},
   "source": [
    "\n",
    "```{exercise} Glyph Classification\n",
    "\n",
    " 1. Create a document with several glyphs similar to the reference one and several ones wich are dissimilar. Save it as `docs/glyphs-misc.tldr\".\n",
    "\n",
    " 2. Generate automatically a new tldraw document `docs/glyphs-classified.tldr` with the same set of glyphs, but such that the glyphs are green when they are similar to the reference one and red if they are dissimilar.\n",
    "```\n",
    "\n",
    "\n",
    "![](images/glyphs-misc.png)\n",
    "\n",
    "![](images/glyphs-misc-checked.png)"
   ]
  }
 ],
 "metadata": {
  "kernelspec": {
   "display_name": "Python 3 (ipykernel)",
   "language": "python",
   "name": "python3"
  },
  "language_info": {
   "codemirror_mode": {
    "name": "ipython",
    "version": 3
   },
   "file_extension": ".py",
   "mimetype": "text/x-python",
   "name": "python",
   "nbconvert_exporter": "python",
   "pygments_lexer": "ipython3",
   "version": "3.11.4"
  }
 },
 "nbformat": 4,
 "nbformat_minor": 5
}
