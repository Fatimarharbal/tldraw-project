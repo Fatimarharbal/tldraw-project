{
 "cells": [
  {
   "cell_type": "markdown",
   "metadata": {},
   "source": [
    "---\n",
    "title: Tracking Changes\n",
    "date: 2023-11-30 \n",
    "authors:\n",
    "  - name: Sébastien Boisgérault\n",
    "    email: Sebastien.Boisgerault@minesparis.psl.eu\n",
    "    url: https://github.com/boisgera\n",
    "    affiliations:\n",
    "      - institution: Mines Paris - PSL University\n",
    "        department: Institut des Transformation Numériques (ITN)\n",
    "github: boisgera\n",
    "license: CC-BY-4.0\n",
    "open_access: true\n",
    "---"
   ]
  },
  {
   "cell_type": "markdown",
   "metadata": {},
   "source": [
    "In order to understand how `.tldr` files are structured, we can add a new graphical objects, change some if their properties, etc. and each time we modify the document, analyze the corresponding evolution of the file.\n",
    "\n",
    "In this notebook, we develop some tooling to help us track such changes."
   ]
  },
  {
   "cell_type": "markdown",
   "metadata": {},
   "source": [
    "## Text comparison"
   ]
  },
  {
   "cell_type": "markdown",
   "metadata": {},
   "source": [
    "We define two similar versions of the \"zen of Python\":"
   ]
  },
  {
   "cell_type": "code",
   "execution_count": 3,
   "metadata": {},
   "outputs": [],
   "source": [
    "zen_1 = \"\"\"The Zen of Python, by Tim Peters\n",
    "\n",
    "Beautiful is better than ugly.\n",
    "Explicit is better than implicit.\n",
    "Simple is better than complex.\n",
    "Complex is better than complicated.\n",
    "Flat is better than nested.\n",
    "Sparse is better than dense.\n",
    "Readability counts.\n",
    "Special cases aren't special enough to break the rules.\n",
    "Errors should never pass silently.\n",
    "In the face of ambiguity, refuse the temptation to guess.\n",
    "There should be one obvious way to do it.\n",
    "Although that way may not be obvious at first.\n",
    "Now is better than never.\n",
    "Although never is often better than right now.\n",
    "If the implementation is hard to explain, it's a bad idea.\n",
    "If the implementation is easy to explain, it is a good idea.\n",
    "\"\"\""
   ]
  },
  {
   "cell_type": "code",
   "execution_count": 4,
   "metadata": {},
   "outputs": [],
   "source": [
    "zen_2 = \"\"\"\\\n",
    "The Zen of Python, by Tim Peters\n",
    "\n",
    "Beautiful is better than ugly.\n",
    "Explicit is better than implicit.\n",
    "Simple is better than complex.\n",
    "Complex is better than complicated.\n",
    "Flat is better than nested.\n",
    "Sparse is better than dense.\n",
    "Readability counts.\n",
    "Special cases aren't special enough to break the rules.\n",
    "Although practicality beats purity.\n",
    "Errors should never pass silently.\n",
    "Unless explicitly silenced.\n",
    "In the face of ambiguity, refuse the temptation to guess.\n",
    "There should be one-- and preferably only one --obvious way to do it.\n",
    "Although that way may not be obvious at first unless you're Dutch.\n",
    "Now is better than never.\n",
    "Although never is often better than *right* now.\n",
    "If the implementation is hard to explain, it's a bad idea.\n",
    "If the implementation is easy to explain, it may be a good idea.\n",
    "Namespaces are one honking great idea -- let's do more of those!\n",
    "\"\"\""
   ]
  },
  {
   "cell_type": "markdown",
   "metadata": {},
   "source": [
    "```{exercise}\n",
    " 1. Transform `zen_1` and `zen_2` into list of lines.\n",
    " 2. Use the [`difflib`](https://docs.python.org/3/library/difflib.html) module of the Python standard library to [`compare`](https://docs.python.org/3/library/difflib.html#difflib.Differ.compare) the two sequences.\n",
    " 3. Make a text out of the output of compare and print it.\n",
    " 4. Interpret the result and list the differences between both versions of the zen of Python.\n",
    "```"
   ]
  },
  {
   "cell_type": "code",
   "execution_count": 8,
   "metadata": {},
   "outputs": [
    {
     "data": {
      "text/plain": [
       "['The Zen of Python, by Tim Peters',\n",
       " '',\n",
       " 'Beautiful is better than ugly.',\n",
       " 'Explicit is better than implicit.',\n",
       " 'Simple is better than complex.',\n",
       " 'Complex is better than complicated.',\n",
       " 'Flat is better than nested.',\n",
       " 'Sparse is better than dense.',\n",
       " 'Readability counts.',\n",
       " \"Special cases aren't special enough to break the rules.\",\n",
       " 'Errors should never pass silently.',\n",
       " 'In the face of ambiguity, refuse the temptation to guess.',\n",
       " 'There should be one obvious way to do it.',\n",
       " 'Although that way may not be obvious at first.',\n",
       " 'Now is better than never.',\n",
       " 'Although never is often better than right now.',\n",
       " \"If the implementation is hard to explain, it's a bad idea.\",\n",
       " 'If the implementation is easy to explain, it is a good idea.']"
      ]
     },
     "execution_count": 8,
     "metadata": {},
     "output_type": "execute_result"
    }
   ],
   "source": [
    "zen_1list = zen_1.splitlines()\n",
    "zen_1list"
   ]
  },
  {
   "cell_type": "code",
   "execution_count": 9,
   "metadata": {},
   "outputs": [
    {
     "data": {
      "text/plain": [
       "['The Zen of Python, by Tim Peters',\n",
       " '',\n",
       " 'Beautiful is better than ugly.',\n",
       " 'Explicit is better than implicit.',\n",
       " 'Simple is better than complex.',\n",
       " 'Complex is better than complicated.',\n",
       " 'Flat is better than nested.',\n",
       " 'Sparse is better than dense.',\n",
       " 'Readability counts.',\n",
       " \"Special cases aren't special enough to break the rules.\",\n",
       " 'Although practicality beats purity.',\n",
       " 'Errors should never pass silently.',\n",
       " 'Unless explicitly silenced.',\n",
       " 'In the face of ambiguity, refuse the temptation to guess.',\n",
       " 'There should be one-- and preferably only one --obvious way to do it.',\n",
       " \"Although that way may not be obvious at first unless you're Dutch.\",\n",
       " 'Now is better than never.',\n",
       " 'Although never is often better than *right* now.',\n",
       " \"If the implementation is hard to explain, it's a bad idea.\",\n",
       " 'If the implementation is easy to explain, it may be a good idea.',\n",
       " \"Namespaces are one honking great idea -- let's do more of those!\"]"
      ]
     },
     "execution_count": 9,
     "metadata": {},
     "output_type": "execute_result"
    }
   ],
   "source": [
    "zen_2list = zen_2.splitlines()\n",
    "zen_2list"
   ]
  },
  {
   "cell_type": "code",
   "execution_count": 14,
   "metadata": {},
   "outputs": [
    {
     "name": "stdout",
     "output_type": "stream",
     "text": [
      "  The Zen of Python, by Tim Peters\n",
      "  \n",
      "  Beautiful is better than ugly.\n",
      "  Explicit is better than implicit.\n",
      "  Simple is better than complex.\n",
      "  Complex is better than complicated.\n",
      "  Flat is better than nested.\n",
      "  Sparse is better than dense.\n",
      "  Readability counts.\n",
      "  Special cases aren't special enough to break the rules.\n",
      "+ Although practicality beats purity.\n",
      "  Errors should never pass silently.\n",
      "+ Unless explicitly silenced.\n",
      "  In the face of ambiguity, refuse the temptation to guess.\n",
      "- There should be one obvious way to do it.\n",
      "+ There should be one-- and preferably only one --obvious way to do it.\n",
      "- Although that way may not be obvious at first.\n",
      "+ Although that way may not be obvious at first unless you're Dutch.\n",
      "?                                              ++++++++++++++++++++\n",
      "\n",
      "  Now is better than never.\n",
      "- Although never is often better than right now.\n",
      "+ Although never is often better than *right* now.\n",
      "?                                     +     +\n",
      "\n",
      "  If the implementation is hard to explain, it's a bad idea.\n",
      "- If the implementation is easy to explain, it is a good idea.\n",
      "?                                              ^^\n",
      "\n",
      "+ If the implementation is easy to explain, it may be a good idea.\n",
      "?                                              ^^^^^^\n",
      "\n",
      "+ Namespaces are one honking great idea -- let's do more of those!\n"
     ]
    }
   ],
   "source": [
    "import difflib\n",
    "\n",
    "diff= difflib.Differ().compare(zen_1list, zen_2list)\n",
    "for line in diff:\n",
    "    print(line)"
   ]
  },
  {
   "cell_type": "markdown",
   "metadata": {},
   "source": [
    "Lorsqu'il y a un \"+\" c'est que la phrase a été ajouté, quand il y a \"-\" et ensuite \"+\" cela veut dire qu'une phrase a été remplacée. \n",
    "Les différences sont donc  :\n",
    "-\"Although practicality beats purity.\" a été ajouté.\n",
    "-\"Unless explicitly silenced.\" a été ajouté.\n",
    "-\"There should be one obvious way to do it.\" a été remplacé par \"There should be one-- and preferably only one --obvious way to do it.\"\n",
    "-\"Although that way may not be obvious at first.\" a été remplacé par \"Although that way may not be obvious at first unless you're Dutch.\"\n",
    "-\"Although never is often better than right now.\" a été remplacé par \"Although never is often better than right now.\"\n",
    "-\"If the implementation is easy to explain, it is a good idea.\" a été remplacé par \"If the implementation is easy to explain, it may be a good idea.\"\n",
    "-\"Namespaces are one honking great idea -- let's do more of those!\" a été ajouté."
   ]
  },
  {
   "cell_type": "markdown",
   "metadata": {},
   "source": [
    "We can make our job easier if we use HTML instead of plain text to visualise the differences between the two texts.\n",
    "\n",
    "\n",
    "```{exercise}\n",
    "  1. Use the [HtmlDiff](https://docs.python.org/3/library/difflib.html#difflib.HtmlDiff) class of difflib to produce a `diff.html` file that represents this difference in a HTML document.\n",
    "  2. Use the [webbrowser](https://docs.python.org/3/library/webbrowser.html) module of the standard library to open it!\n",
    "  3. Define a `display_diff_text` function that takes two arguments `text_1` and `text_2` and automates steps 1. and 2.\n",
    "```"
   ]
  },
  {
   "cell_type": "code",
   "execution_count": 16,
   "metadata": {},
   "outputs": [],
   "source": [
    "import difflib\n",
    "html_diff = difflib.HtmlDiff().make_file(zen_1list, zen_2list)\n",
    "with open(\"diff_report.html\", \"wt\") as file:\n",
    "    file.write(html_diff)"
   ]
  },
  {
   "cell_type": "code",
   "execution_count": 21,
   "metadata": {},
   "outputs": [],
   "source": [
    "import webbrowser\n",
    "fichier = webbrowser.open_new_tab(\"diff_report.html\")"
   ]
  },
  {
   "cell_type": "code",
   "execution_count": 22,
   "metadata": {},
   "outputs": [
    {
     "data": {
      "text/plain": [
       "True"
      ]
     },
     "execution_count": 22,
     "metadata": {},
     "output_type": "execute_result"
    }
   ],
   "source": [
    "fichier"
   ]
  },
  {
   "cell_type": "code",
   "execution_count": 52,
   "metadata": {},
   "outputs": [],
   "source": [
    "import difflib\n",
    "import webbrowser\n",
    "def display_diff_text(text_1,text_2):\n",
    "    text_1_list = text_1.splitlines()\n",
    "    text_2_list = text_2.splitlines()\n",
    "    diff = difflib.HtmlDiff().make_file(text_1_list,text_2_list)\n",
    "    with open(\"report.html\", \"w\", encoding=\"utf-8\") as file:\n",
    "        file.write(diff)\n",
    "    webbrowser.open(\"report.html\")"
   ]
  },
  {
   "cell_type": "code",
   "execution_count": 53,
   "metadata": {},
   "outputs": [
    {
     "name": "stdout",
     "output_type": "stream",
     "text": [
      "None\n"
     ]
    }
   ],
   "source": [
    "print(display_diff_text(zen_1,zen_2))"
   ]
  },
  {
   "cell_type": "markdown",
   "metadata": {},
   "source": [
    "## Comparison of JSON documents"
   ]
  },
  {
   "cell_type": "markdown",
   "metadata": {},
   "source": [
    "````{exercise} Comparison of dictionnaries\n",
    "\n",
    " 1. Create a `display_diff` function that takes two Python objects, converts them to strings then leverages `display_diff_text` to display the difference in a browser.\n",
    "\n",
    " 2. Consider the 3 dictionaries defined by\n",
    "    ```python\n",
    "    d1 = {k:k+1 for k in range(100)}\n",
    "    d2 = d1.copy(); d2[50] = 50\n",
    "    d3 = {k:k+1 for k in range(99, -1, -1)}\n",
    "    ```\n",
    "    `d1` and `d2` have a slight difference and `d1` and `d2` are equal.\n",
    "    Does your `display_diff` function make easy to spot where the difference is in the first case when it compares `d1` and `d2`?\n",
    "    Does it make easy to see that `d1` and `d3` are equal?\n",
    "\n",
    "  3. Investigate the [`pprint`](https://docs.python.org/3/library/pprint.html) module standard library ; use it to improve the behavior of `display_text_diff` in the two cases considered in the previous question.\n",
    "\n",
    "````\n",
    " "
   ]
  },
  {
   "cell_type": "code",
   "execution_count": 54,
   "metadata": {},
   "outputs": [],
   "source": [
    "def display_diff(obj_1,obj_2):\n",
    "   chaine_1 = str(obj_1)\n",
    "   chaine_2 = str(obj_2)\n",
    "   return display_diff_text(chaine_1, chaine_2)\n"
   ]
  },
  {
   "cell_type": "code",
   "execution_count": 55,
   "metadata": {},
   "outputs": [],
   "source": [
    "d1 = {k:k+1 for k in range(100)}\n",
    "d2 = d1.copy(); d2[50] = 50\n",
    "d3 = {k:k+1 for k in range(99, -1, -1)}"
   ]
  },
  {
   "cell_type": "code",
   "execution_count": 58,
   "metadata": {},
   "outputs": [],
   "source": [
    "display_diff(d1, d2)#trés compliqué de voir où sont les différences"
   ]
  },
  {
   "cell_type": "code",
   "execution_count": 59,
   "metadata": {},
   "outputs": [],
   "source": [
    "display_diff(d1, d3)#on ne peut pas voir si les deux dictionnaires sont les mêmes"
   ]
  },
  {
   "cell_type": "code",
   "execution_count": 67,
   "metadata": {},
   "outputs": [],
   "source": [
    "import difflib\n",
    "import webbrowser\n",
    "import pprint\n",
    "def display_diff_am(obj_1, obj_2):\n",
    "   chaine_1 = str(obj_1)\n",
    "   chaine_2 = str(obj_2)\n",
    "   pp = pprint.PrettyPrinter(indent=4)\n",
    "   pp.pprint(chaine_1)\n",
    "   pp.pprint(chaine_2)\n",
    "   return display_diff_text(chaine_1, chaine_2)\n",
    "#à revoir cette question\n"
   ]
  },
  {
   "cell_type": "markdown",
   "metadata": {},
   "source": [
    "```{exercise} tldraw documents comparator\n",
    "Implement a function `tldraw_diff` that takes as argument two filenames that refer to tldraw documents and display their differences in the browser.\n",
    "```"
   ]
  },
  {
   "cell_type": "code",
   "execution_count": 69,
   "metadata": {},
   "outputs": [],
   "source": [
    "def tldraw_diff(file1,file2):\n",
    "    str1 = open(\"file1\", mode=\"rt\", encoding=\"utf-8\").read()\n",
    "    str2 = open(\"file2\", mode=\"rt\", encoding=\"utf-8\").read()\n",
    "    return display_diff_text(str1, str2)"
   ]
  }
 ],
 "metadata": {
  "kernelspec": {
   "display_name": "Python 3 (ipykernel)",
   "language": "python",
   "name": "python3"
  },
  "language_info": {
   "codemirror_mode": {
    "name": "ipython",
    "version": 3
   },
   "file_extension": ".py",
   "mimetype": "text/x-python",
   "name": "python",
   "nbconvert_exporter": "python",
   "pygments_lexer": "ipython3",
   "version": "3.11.4"
  }
 },
 "nbformat": 4,
 "nbformat_minor": 4
}
